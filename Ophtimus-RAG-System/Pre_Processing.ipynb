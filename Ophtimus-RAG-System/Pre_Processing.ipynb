{
 "cells": [
  {
   "cell_type": "code",
   "execution_count": 1,
   "id": "d9b043ec",
   "metadata": {},
   "outputs": [],
   "source": [
    "import logging\n",
    "\n",
    "# 로깅 설정 - pdfminer 경고 메시지 억제\n",
    "logging.basicConfig(level=logging.ERROR)\n",
    "logging.getLogger('pdfminer').setLevel(logging.ERROR)"
   ]
  },
  {
   "cell_type": "code",
   "execution_count": 2,
   "id": "c05ce64f",
   "metadata": {},
   "outputs": [],
   "source": [
    "import os\n",
    "import logging\n",
    "\n",
    "# 로깅 설정 - pdfminer 경고 메시지 억제\n",
    "logging.basicConfig(level=logging.ERROR)\n",
    "logging.getLogger('pdfminer').setLevel(logging.ERROR)\n",
    "\n",
    "from langchain_community.document_loaders import PDFMinerLoader, PyMuPDFLoader\n",
    "\n",
    "# PDFMinerLoader와 PyMuPDFLoader 둘다 시도\n",
    "def PDF_Loader(pdf_file):\n",
    "    loaders = [\n",
    "        (\"PDFMinerLoader\", lambda: PDFMinerLoader(pdf_file, mode=\"page\")),\n",
    "        (\"PyMuPDFLoader\", lambda: PyMuPDFLoader(pdf_file))\n",
    "    ]\n",
    "    \n",
    "    for loader_name, loader_func in loaders:\n",
    "        try:\n",
    "            loader = loader_func()\n",
    "            docs = loader.load()\n",
    "            print(f\"성공: {os.path.basename(pdf_file)} - {loader_name} 사용\")\n",
    "            return docs\n",
    "        except Exception as e:\n",
    "            error_msg = str(e).lower()\n",
    "            # 색상 관련 오류인지 확인\n",
    "            if any(keyword in error_msg for keyword in ['color', 'stroke', 'gray', 'rgb', 'cmyk', 'float']):\n",
    "                print(f\"색상 오류 발생: {os.path.basename(pdf_file)} - {loader_name}에서 {e}\")\n",
    "                continue\n",
    "            else:\n",
    "                print(f\"기타 오류 발생: {os.path.basename(pdf_file)} - {loader_name}에서 {e}\")\n",
    "                continue\n",
    "\n",
    "    print(f\"모든 로더 실패: {os.path.basename(pdf_file)}\")\n",
    "    return []"
   ]
  },
  {
   "cell_type": "code",
   "execution_count": 3,
   "id": "3279595f",
   "metadata": {},
   "outputs": [
    {
     "name": "stdout",
     "output_type": "stream",
     "text": [
      "Total PDF files: 5\n",
      "Processing file 1 of 5: ./Data/465426.pdf\n",
      "성공: 465426.pdf - PDFMinerLoader 사용\n",
      "성공: 306694.pdf - PDFMinerLoader 사용\n",
      "성공: 613523.pdf - PDFMinerLoader 사용\n",
      "성공: 2015_PROF_311_Macular-hole-surgery-dataset(황반구멍).pdf - PDFMinerLoader 사용\n",
      "성공: 218608.pdf - PDFMinerLoader 사용\n",
      "\n",
      "=== 처리 결과 ===\n",
      "성공적으로 로드된 파일 수: 5\n",
      "로드 실패한 파일 수: 0\n",
      "총 로드된 문서 수: 116\n"
     ]
    }
   ],
   "source": [
    "pdf_dir = \"./Data\"\n",
    "pdf_files = [os.path.join(pdf_dir, f) for f in os.listdir(pdf_dir) if f.lower().endswith('.pdf')]\n",
    "print(f\"Total PDF files: {len(pdf_files)}\")\n",
    "\n",
    "# 문서 로드\n",
    "docs = []\n",
    "success_count = 0\n",
    "error_count = 0\n",
    "\n",
    "for i,pdf_file in enumerate(pdf_files):\n",
    "    if i % 100 == 0:\n",
    "        print(f\"Processing file {i+1} of {len(pdf_files)}: {pdf_file}\")\n",
    "    file_docs = PDF_Loader(pdf_file)\n",
    "    if file_docs:\n",
    "        docs.extend(file_docs)\n",
    "        success_count += 1\n",
    "    else:\n",
    "        error_count += 1\n",
    "\n",
    "print(f\"\\n=== 처리 결과 ===\")\n",
    "print(f\"성공적으로 로드된 파일 수: {success_count}\")\n",
    "print(f\"로드 실패한 파일 수: {error_count}\")\n",
    "print(f\"총 로드된 문서 수: {len(docs)}\")"
   ]
  },
  {
   "cell_type": "code",
   "execution_count": 4,
   "id": "e700f17f",
   "metadata": {},
   "outputs": [
    {
     "name": "stdout",
     "output_type": "stream",
     "text": [
      "문서가 성공적으로 저장되었습니다: ./Data/saved_docs/filename.pkl\n",
      "저장된 문서 수: 116\n",
      "문서가 성공적으로 로드되었습니다: ./Data/saved_docs/filename.pkl\n",
      "로드된 문서 수: 116\n"
     ]
    }
   ],
   "source": [
    "from utils.docs_storage_utils import save_docs_to_local, load_docs_from_local\n",
    "\n",
    "save_docs_to_local(docs, save_dir=\"./Data/saved_docs\", filename=\"filename.pkl\")\n",
    "docs = load_docs_from_local(\"./Data/saved_docs/filename.pkl\")"
   ]
  },
  {
   "cell_type": "code",
   "execution_count": 5,
   "id": "749ea627",
   "metadata": {},
   "outputs": [
    {
     "name": "stdout",
     "output_type": "stream",
     "text": [
      "분할 후 문서 수: 552\n"
     ]
    }
   ],
   "source": [
    "from langchain_text_splitters import RecursiveCharacterTextSplitter\n",
    "\n",
    "# 문서 분할\n",
    "text_splitter = RecursiveCharacterTextSplitter(\n",
    "    chunk_size=500,\n",
    "    chunk_overlap=100,\n",
    "    length_function=len,\n",
    "    is_separator_regex=False\n",
    ")\n",
    "docs = text_splitter.split_documents(docs)\n",
    "\n",
    "print(f\"분할 후 문서 수: {len(docs)}\")"
   ]
  },
  {
   "cell_type": "code",
   "execution_count": 9,
   "id": "dba79e0d",
   "metadata": {},
   "outputs": [],
   "source": [
    "import pickle\n",
    "from langchain.retrievers import BM25Retriever\n",
    "\n",
    "# BM25Retriever 생성\n",
    "bm25_retriever = BM25Retriever.from_documents(\n",
    "    docs,\n",
    ")\n",
    "bm25_retriever.k = 2 \n",
    "\n",
    "# 검색 실행\n",
    "# results = bm25_retriever.get_relevant_documents(\"what is epiretinal membrane?\")\n",
    "# for result in results:\n",
    "#     print(f\"문서: {result.page_content}\")\n",
    "#     print(f\"소스: {result.metadata['source']}\")\n",
    "#     print(\"---\")\n",
    "\n",
    "# BM25Retriever를 로컬에 저장\n",
    "with open(\"./Data/bm25/bm25_retriever.pkl\", \"wb\") as f:\n",
    "    pickle.dump(bm25_retriever, f)\n",
    "\n",
    "with open(\"./Data/bm25/bm25_retriever.pkl\", \"rb\") as f:\n",
    "    loaded_bm25_retriever = pickle.load(f)"
   ]
  },
  {
   "cell_type": "code",
   "execution_count": null,
   "id": "33dfe95f",
   "metadata": {},
   "outputs": [],
   "source": [
    "from langchain_huggingface.embeddings import HuggingFaceEmbeddings\n",
    "\n",
    "embedding_model_name = \"ibm-granite/granite-embedding-125m-english\"\n",
    "\n",
    "hf_embeddings = HuggingFaceEmbeddings(\n",
    "    model_name=embedding_model_name,\n",
    "    model_kwargs={\"device\": \"mps\"},\n",
    "    encode_kwargs={\"normalize_embeddings\": True}\n",
    ")\n",
    "\n",
    "# print(hf_embeddings.embed_documents(\"hi\"))\n",
    "print(len(hf_embeddings.embed_query(\"hi\"))) # 768"
   ]
  },
  {
   "cell_type": "code",
   "execution_count": null,
   "id": "87eb090f",
   "metadata": {},
   "outputs": [],
   "source": [
    "from langchain_community.vectorstores import FAISS\n",
    "\n",
    "db = FAISS.from_documents(documents=docs, embedding=hf_embeddings)\n",
    "db.save_local(folder_path=\"./Data/faiss_db\", index_name=\"Ophthalmology_FAISS_Index\")\n"
   ]
  },
  {
   "cell_type": "code",
   "execution_count": null,
   "id": "13398989",
   "metadata": {},
   "outputs": [],
   "source": [
    "loaded_db = FAISS.load_local(\n",
    "    folder_path=\"./Data/faiss_db\", \n",
    "    index_name=\"Ophthalmology_FAISS_Index\",\n",
    "    embeddings=hf_embeddings,\n",
    "    allow_dangerous_deserialization=True,\n",
    "    )\n",
    "\n",
    "retriever = loaded_db.as_retriever(\n",
    "    search_type=\"mmr\", \n",
    "    search_kwargs={\"k\": 4, \"lambda_mult\": 0.25, \"fetch_k\": 10},\n",
    "    )\n",
    "\n",
    "retrieved_docs = retriever.invoke(\"What is Epiretinal Membrane?\")\n",
    "\n",
    "for i in range(len(retrieved_docs)):\n",
    "    print(f\"Document {i+1}:\")\n",
    "    print(retrieved_docs[i].page_content)\n",
    "    print(\"-\"*100)"
   ]
  }
 ],
 "metadata": {
  "kernelspec": {
   "display_name": "LangChainEnv",
   "language": "python",
   "name": "python3"
  },
  "language_info": {
   "codemirror_mode": {
    "name": "ipython",
    "version": 3
   },
   "file_extension": ".py",
   "mimetype": "text/x-python",
   "name": "python",
   "nbconvert_exporter": "python",
   "pygments_lexer": "ipython3",
   "version": "3.11.8"
  }
 },
 "nbformat": 4,
 "nbformat_minor": 5
}
