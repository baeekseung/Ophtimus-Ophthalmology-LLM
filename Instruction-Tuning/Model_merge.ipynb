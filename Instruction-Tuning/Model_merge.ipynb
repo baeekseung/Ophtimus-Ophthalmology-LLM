{
 "cells": [
  {
   "cell_type": "code",
   "execution_count": 1,
   "id": "7c95c6bb",
   "metadata": {},
   "outputs": [],
   "source": [
    "from dotenv import load_dotenv\n",
    "import os\n",
    "\n",
    "load_dotenv()\n",
    "huggingface_token = os.getenv(\"HF_TOKEN_read\")\n",
    "\n",
    "from huggingface_hub import login\n",
    "login(token=huggingface_token)"
   ]
  },
  {
   "cell_type": "code",
   "execution_count": 2,
   "id": "73697d37",
   "metadata": {},
   "outputs": [
    {
     "data": {
      "application/vnd.jupyter.widget-view+json": {
       "model_id": "528cefc45a5e43198c70a984e93600fc",
       "version_major": 2,
       "version_minor": 0
      },
      "text/plain": [
       "Loading checkpoint shards:   0%|          | 0/2 [00:00<?, ?it/s]"
      ]
     },
     "metadata": {},
     "output_type": "display_data"
    }
   ],
   "source": [
    "from transformers import AutoModelForCausalLM\n",
    "import torch\n",
    "\n",
    "base_model = AutoModelForCausalLM.from_pretrained(\n",
    "    \"meta-llama/Llama-3.2-3B-Instruct\",\n",
    "    torch_dtype=torch.bfloat16,\n",
    "    device_map = {\"\": 0}\n",
    ")"
   ]
  },
  {
   "cell_type": "code",
   "execution_count": 3,
   "id": "3f0caf52",
   "metadata": {},
   "outputs": [],
   "source": [
    "fine_tuned_model_path = f\"../../Ophtimus_LoRA/Ophtimus_3B_Instruct_checkpoint/checkpoint-1584\""
   ]
  },
  {
   "cell_type": "code",
   "execution_count": 4,
   "id": "0f2a95d3",
   "metadata": {},
   "outputs": [
    {
     "name": "stderr",
     "output_type": "stream",
     "text": [
      "WARNING: BNB_CUDA_VERSION=123 environment variable detected; loading libbitsandbytes_cuda123.so.\n",
      "This can be used to load a bitsandbytes version that is different from the PyTorch CUDA version.\n",
      "If this was unintended set the BNB_CUDA_VERSION variable to an empty string: export BNB_CUDA_VERSION=\n",
      "If you use the manual override make sure the right libcudart.so is in your LD_LIBRARY_PATH\n",
      "For example by adding the following to your .bashrc: export LD_LIBRARY_PATH=$LD_LIBRARY_PATH:<path_to_cuda_dir/lib64\n",
      "\n"
     ]
    }
   ],
   "source": [
    "# 16bit model + adapter\n",
    "from peft import PeftConfig, PeftModel\n",
    "base_and_adapter_model = PeftModel.from_pretrained(base_model, fine_tuned_model_path)"
   ]
  },
  {
   "cell_type": "code",
   "execution_count": 5,
   "id": "0d51808a",
   "metadata": {},
   "outputs": [],
   "source": [
    "base_and_adapter_model = base_and_adapter_model.merge_and_unload()"
   ]
  },
  {
   "cell_type": "code",
   "execution_count": 6,
   "id": "cb82c424",
   "metadata": {},
   "outputs": [],
   "source": [
    "# 모델을 로컬 디렉토리에 저장\n",
    "save_path = f\"../../Ophtimus/Ophtimus-3B-Instruct-v1/1epoch\"  # 저장할 경로를 지정\n",
    "\n",
    "import os\n",
    "os.makedirs(save_path, exist_ok=True)\n",
    "\n",
    "base_and_adapter_model.save_pretrained(save_path)"
   ]
  },
  {
   "cell_type": "code",
   "execution_count": null,
   "id": "93d5fb6d",
   "metadata": {},
   "outputs": [],
   "source": []
  }
 ],
 "metadata": {
  "kernelspec": {
   "display_name": "PyTorch 2.3 (NGC 24.04/Python 3.10) on Backend.AI",
   "language": "python",
   "name": "python3"
  },
  "language_info": {
   "codemirror_mode": {
    "name": "ipython",
    "version": 3
   },
   "file_extension": ".py",
   "mimetype": "text/x-python",
   "name": "python",
   "nbconvert_exporter": "python",
   "pygments_lexer": "ipython3",
   "version": "3.10.12"
  }
 },
 "nbformat": 4,
 "nbformat_minor": 5
}
