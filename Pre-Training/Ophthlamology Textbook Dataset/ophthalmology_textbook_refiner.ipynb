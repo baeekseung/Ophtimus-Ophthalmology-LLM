{
 "cells": [
  {
   "cell_type": "code",
   "execution_count": 1,
   "id": "59f2e7c6",
   "metadata": {
    "ExecuteTime": {
     "end_time": "2024-10-14T07:39:03.184022Z",
     "start_time": "2024-10-14T07:39:02.555442Z"
    }
   },
   "outputs": [],
   "source": [
    "import openai\n",
    "from openai.error import RateLimitError\n",
    "import time\n",
    "from dotenv import load_dotenv\n",
    "import os\n",
    "\n",
    "load_dotenv()\n",
    "openai.api_key = os.getenv(\"OPENAI_API_KEY\")"
   ]
  },
  {
   "cell_type": "code",
   "execution_count": 2,
   "id": "5b5f7cb5",
   "metadata": {
    "ExecuteTime": {
     "end_time": "2024-10-14T03:24:44.739237Z",
     "start_time": "2024-10-14T03:24:44.735887Z"
    }
   },
   "outputs": [],
   "source": [
    "def Generation_prompt(ophthalcontents):\n",
    "    alpaca_format_str = f\"\"\"text:\\n{ophthalcontents}\\n\\nresult:\\n\"\"\"\n",
    "    \n",
    "    return alpaca_format_str"
   ]
  },
  {
   "cell_type": "code",
   "execution_count": 3,
   "id": "6387ff36",
   "metadata": {},
   "outputs": [],
   "source": [
    "GPT_system_prompt = \\\n",
    "\"\"\"You are an expert ophthalmologist and medical editor. You have been given text extracted from an ophthalmology textbook. Your job is to summarize, and structure this text into a corpus format suitable for training a large language model (LLM) specialized in ophthalmology.\n",
    "When reorganizing, please remove all non-textual data, such as pictures, diagrams, etc. Also, please remove all personally identifiable information and unique document information, and reorganize in natural writing without bullet points as much as possible. Remove any references to chapter numbers, section headings, page numbers, or other structural details from the original source. Only include the core ophthalmology content itself, excluding any metadata or documentation-specific markers that do not directly contribute to the medical information. Also, all sentences should end.\"\"\""
   ]
  },
  {
   "cell_type": "code",
   "execution_count": 4,
   "id": "f303af58",
   "metadata": {
    "ExecuteTime": {
     "end_time": "2024-10-14T03:24:45.716077Z",
     "start_time": "2024-10-14T03:24:45.412884Z"
    }
   },
   "outputs": [],
   "source": [
    "def call_openai_api(prompt):\n",
    "    while True:  # 재시도 루프\n",
    "        try:\n",
    "            response = openai.ChatCompletion.create(\n",
    "                model=\"gpt-4o\",\n",
    "                messages=[\n",
    "                    {\"role\": \"system\", \"content\": GPT_system_prompt},\n",
    "                    {\"role\": \"user\", \"content\": prompt},\n",
    "                ],\n",
    "                temperature=0.0,\n",
    "                # max_tokens=4096,\n",
    "                n=1,\n",
    "                stop=None,\n",
    "            )\n",
    "            return response['choices'][0]['message']['content']\n",
    "        except RateLimitError as e:\n",
    "            print(f\"Rate limit reached: {e}. Waiting for 10 seconds before retrying...\")\n",
    "            time.sleep(10)"
   ]
  },
  {
   "cell_type": "code",
   "execution_count": 5,
   "id": "c45fb755",
   "metadata": {},
   "outputs": [],
   "source": [
    "import pandas as pd\n",
    "\n",
    "corpus_file = \"./Parsed Ophthalmology Textbooks/BCSC_section12_parsed.xlsx\"\n",
    "\n",
    "corpus_df = pd.read_excel(corpus_file)\n",
    "corpus_list = corpus_df[\"contents\"].values.tolist()"
   ]
  },
  {
   "cell_type": "code",
   "execution_count": 6,
   "id": "e0303a62",
   "metadata": {},
   "outputs": [
    {
     "name": "stdout",
     "output_type": "stream",
     "text": [
      "10 / 891\n",
      "20 / 891\n",
      "30 / 891\n",
      "40 / 891\n",
      "50 / 891\n",
      "60 / 891\n",
      "70 / 891\n",
      "80 / 891\n",
      "90 / 891\n",
      "100 / 891\n",
      "110 / 891\n",
      "120 / 891\n",
      "130 / 891\n",
      "140 / 891\n",
      "150 / 891\n",
      "160 / 891\n",
      "170 / 891\n",
      "180 / 891\n",
      "190 / 891\n",
      "200 / 891\n",
      "210 / 891\n",
      "220 / 891\n",
      "230 / 891\n",
      "240 / 891\n",
      "250 / 891\n",
      "260 / 891\n",
      "270 / 891\n",
      "280 / 891\n",
      "290 / 891\n",
      "300 / 891\n",
      "310 / 891\n",
      "320 / 891\n",
      "330 / 891\n",
      "340 / 891\n",
      "350 / 891\n",
      "360 / 891\n",
      "370 / 891\n",
      "380 / 891\n",
      "390 / 891\n",
      "400 / 891\n",
      "410 / 891\n",
      "420 / 891\n",
      "430 / 891\n",
      "440 / 891\n",
      "450 / 891\n",
      "460 / 891\n",
      "470 / 891\n",
      "480 / 891\n",
      "490 / 891\n",
      "500 / 891\n",
      "510 / 891\n",
      "520 / 891\n",
      "530 / 891\n",
      "540 / 891\n",
      "550 / 891\n",
      "560 / 891\n",
      "570 / 891\n",
      "580 / 891\n",
      "590 / 891\n",
      "600 / 891\n",
      "610 / 891\n",
      "620 / 891\n",
      "630 / 891\n",
      "640 / 891\n",
      "650 / 891\n",
      "660 / 891\n",
      "670 / 891\n",
      "680 / 891\n",
      "690 / 891\n",
      "700 / 891\n",
      "710 / 891\n",
      "720 / 891\n",
      "730 / 891\n",
      "740 / 891\n",
      "750 / 891\n",
      "760 / 891\n",
      "770 / 891\n",
      "780 / 891\n",
      "790 / 891\n",
      "800 / 891\n",
      "810 / 891\n",
      "820 / 891\n",
      "830 / 891\n",
      "840 / 891\n",
      "850 / 891\n",
      "860 / 891\n",
      "870 / 891\n",
      "880 / 891\n",
      "890 / 891\n"
     ]
    }
   ],
   "source": [
    "answer_list = []\n",
    "count = 0\n",
    "for idx in range(len(corpus_list)):\n",
    "    ophthal_content = corpus_list[idx]\n",
    "    prompt_ = Generation_prompt(ophthal_content)\n",
    "    answer_ = call_openai_api(prompt_)\n",
    "    answer_list.append(answer_)\n",
    "    count += 1\n",
    "    if count % 10 == 0:\n",
    "        print(f\"{count} / {len(corpus_list)}\")"
   ]
  },
  {
   "cell_type": "code",
   "execution_count": 7,
   "id": "f860a31f",
   "metadata": {},
   "outputs": [],
   "source": [
    "import pandas as pd\n",
    "\n",
    "df = pd.DataFrame(answer_list, columns=['answer'])\n",
    "df.to_excel('./Refined Ophthalmology Textbooks/BCSC_section12_refined.xlsx', index=False)"
   ]
  }
 ],
 "metadata": {
  "kernelspec": {
   "display_name": "Python 3.8 (NGC 22.12 / TensorFlow 2.10.1) on Backend.AI",
   "language": "python",
   "name": "python3"
  },
  "language_info": {
   "codemirror_mode": {
    "name": "ipython",
    "version": 3
   },
   "file_extension": ".py",
   "mimetype": "text/x-python",
   "name": "python",
   "nbconvert_exporter": "python",
   "pygments_lexer": "ipython3",
   "version": "3.11.9"
  }
 },
 "nbformat": 4,
 "nbformat_minor": 5
}
