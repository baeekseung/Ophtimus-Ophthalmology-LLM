{
 "cells": [
  {
   "cell_type": "code",
   "execution_count": null,
   "id": "5eed816c",
   "metadata": {},
   "outputs": [],
   "source": [
    "from dotenv import load_dotenv\n",
    "import os\n",
    "load_dotenv()\n",
    "HF_TOKEN_read = os.getenv(\"HF_TOKEN_read\")"
   ]
  },
  {
   "cell_type": "code",
   "execution_count": null,
   "id": "37f1b2b6",
   "metadata": {},
   "outputs": [],
   "source": [
    "from huggingface_hub import login\n",
    "login(token = HF_TOKEN_read)"
   ]
  },
  {
   "cell_type": "code",
   "execution_count": null,
   "id": "5473d96c5cde1d53",
   "metadata": {
    "ExecuteTime": {
     "end_time": "2024-08-08T09:37:09.186738Z",
     "start_time": "2024-08-08T09:37:07.382296Z"
    }
   },
   "outputs": [],
   "source": [
    "import datasets\n",
    "\n",
    "dataset = datasets.load_dataset(\n",
    "    \"parquet\", \n",
    "    data_files=\"./Pre-Training-Dataset/Preprocessed_PT_Dataset.parquet\", \n",
    "    split=\"train\"\n",
    ")\n",
    "print(dataset)"
   ]
  },
  {
   "cell_type": "code",
   "execution_count": null,
   "id": "8625aaf1d3254212",
   "metadata": {
    "ExecuteTime": {
     "end_time": "2024-08-08T09:37:13.611764Z",
     "start_time": "2024-08-08T09:37:11.554254Z"
    }
   },
   "outputs": [],
   "source": [
    "from transformers import AutoTokenizer\n",
    "model_path_or_name = \"meta-llama/Llama-3.1-8B\"\n",
    "tokenizer = AutoTokenizer.from_pretrained(\n",
    "    model_path_or_name, \n",
    "    use_fast=False\n",
    ")"
   ]
  },
  {
   "cell_type": "code",
   "execution_count": 3,
   "id": "3c64402c2e2d68b1",
   "metadata": {
    "ExecuteTime": {
     "end_time": "2024-08-08T09:37:17.438696Z",
     "start_time": "2024-08-08T09:37:17.434743Z"
    }
   },
   "outputs": [],
   "source": [
    "def tokenization(example):\n",
    "    # Tokenize\n",
    "    tokens = tokenizer.tokenize(example[\"text\"])\n",
    "\n",
    "    # Convert tokens to ids\n",
    "    token_ids = tokenizer.convert_tokens_to_ids(tokens)\n",
    "\n",
    "    # Add <bos>, <eos> tokens to the front and back of tokens_ids \n",
    "    # bos: begin of sequence, eos: end of sequence\n",
    "    token_ids = [\n",
    "        tokenizer.bos_token_id] \\\n",
    "        + token_ids \\\n",
    "        + [tokenizer.eos_token_id\n",
    "    ]\n",
    "    example[\"input_ids\"] = token_ids\n",
    "\n",
    "    # We will be using this column to count the total number of tokens \n",
    "    # in the final dataset\n",
    "    example[\"num_tokens\"] = len(token_ids)\n",
    "    return example"
   ]
  },
  {
   "cell_type": "code",
   "execution_count": null,
   "id": "17d469673e8624b2",
   "metadata": {
    "ExecuteTime": {
     "end_time": "2024-08-08T09:37:45.516688Z",
     "start_time": "2024-08-08T09:37:21.425900Z"
    }
   },
   "outputs": [],
   "source": [
    "dataset = dataset.map(tokenization, load_from_cache_file=False)\n",
    "print(dataset)"
   ]
  },
  {
   "cell_type": "code",
   "execution_count": null,
   "id": "6549bb951047d269",
   "metadata": {
    "ExecuteTime": {
     "end_time": "2024-08-08T09:37:50.025472Z",
     "start_time": "2024-08-08T09:37:50.020653Z"
    }
   },
   "outputs": [],
   "source": [
    "sample = dataset[3]\n",
    "\n",
    "print(\"text\", sample[\"text\"][:30]) # \n",
    "print(\"\\ninput_ids\", sample[\"input_ids\"][:30])\n",
    "print(\"\\nnum_tokens\", sample[\"num_tokens\"])"
   ]
  },
  {
   "cell_type": "code",
   "execution_count": null,
   "id": "870b3c9e98861dc2",
   "metadata": {
    "ExecuteTime": {
     "end_time": "2024-08-08T09:37:52.381019Z",
     "start_time": "2024-08-08T09:37:52.371151Z"
    }
   },
   "outputs": [],
   "source": [
    "import numpy as np\n",
    "np.sum(dataset[\"num_tokens\"])"
   ]
  },
  {
   "cell_type": "markdown",
   "id": "7da3a85264e4d396",
   "metadata": {},
   "source": [
    "## 2. Packing the data"
   ]
  },
  {
   "cell_type": "code",
   "execution_count": null,
   "id": "ae6c14e0df41e515",
   "metadata": {
    "ExecuteTime": {
     "end_time": "2024-08-08T09:38:14.940937Z",
     "start_time": "2024-08-08T09:38:10.873127Z"
    }
   },
   "outputs": [],
   "source": [
    "input_ids = np.concatenate(dataset[\"input_ids\"])\n",
    "print(len(input_ids))"
   ]
  },
  {
   "cell_type": "code",
   "execution_count": 8,
   "id": "b775fe75bb509a22",
   "metadata": {
    "ExecuteTime": {
     "end_time": "2024-08-08T09:38:17.722879Z",
     "start_time": "2024-08-08T09:38:17.719680Z"
    }
   },
   "outputs": [],
   "source": [
    "max_seq_length = 4096"
   ]
  },
  {
   "cell_type": "code",
   "execution_count": null,
   "id": "f479015dc9417931",
   "metadata": {
    "ExecuteTime": {
     "end_time": "2024-08-08T09:38:19.586826Z",
     "start_time": "2024-08-08T09:38:19.582997Z"
    }
   },
   "outputs": [],
   "source": [
    "total_length = len(input_ids) - len(input_ids) % max_seq_length\n",
    "print(total_length)"
   ]
  },
  {
   "cell_type": "code",
   "execution_count": null,
   "id": "32e5dbb6f2f7d21f",
   "metadata": {
    "ExecuteTime": {
     "end_time": "2024-08-08T09:38:22.001297Z",
     "start_time": "2024-08-08T09:38:21.997856Z"
    }
   },
   "outputs": [],
   "source": [
    "input_ids = input_ids[:total_length]\n",
    "print(input_ids.shape)"
   ]
  },
  {
   "cell_type": "code",
   "execution_count": null,
   "id": "7227354e69a7dffd",
   "metadata": {
    "ExecuteTime": {
     "end_time": "2024-08-08T09:38:25.126197Z",
     "start_time": "2024-08-08T09:38:25.114247Z"
    }
   },
   "outputs": [],
   "source": [
    "input_ids_reshaped = input_ids.reshape(-1, max_seq_length).astype(np.int32)\n",
    "input_ids_reshaped.shape  "
   ]
  },
  {
   "cell_type": "code",
   "execution_count": null,
   "id": "7a99b3166ff0598d",
   "metadata": {
    "ExecuteTime": {
     "end_time": "2024-08-08T09:38:52.148285Z",
     "start_time": "2024-08-08T09:38:52.143603Z"
    }
   },
   "outputs": [],
   "source": [
    "type(input_ids_reshaped)"
   ]
  },
  {
   "cell_type": "code",
   "execution_count": null,
   "id": "c16db07200036016",
   "metadata": {
    "ExecuteTime": {
     "end_time": "2024-08-08T09:38:56.064318Z",
     "start_time": "2024-08-08T09:38:54.916258Z"
    }
   },
   "outputs": [],
   "source": [
    "input_ids_list = input_ids_reshaped.tolist()\n",
    "packaged_pretrain_dataset = datasets.Dataset.from_dict(\n",
    "    {\"input_ids\": input_ids_list}\n",
    ")\n",
    "print(packaged_pretrain_dataset)"
   ]
  },
  {
   "cell_type": "code",
   "execution_count": null,
   "id": "e4d6a0692df6957c",
   "metadata": {
    "ExecuteTime": {
     "end_time": "2024-08-08T09:39:23.520112Z",
     "start_time": "2024-08-08T09:39:23.325192Z"
    }
   },
   "outputs": [],
   "source": [
    "directory = \"./Pre-Training-Dataset\"\n",
    "\n",
    "if not os.path.exists(directory):\n",
    "    os.makedirs(directory)\n",
    "\n",
    "file_path = os.path.join(directory, \"packaged_pretrain_Dataset.parquet\")\n",
    "packaged_pretrain_dataset.to_parquet(file_path)"
   ]
  }
 ],
 "metadata": {
  "kernelspec": {
   "display_name": "Python 3",
   "language": "python",
   "name": "python3"
  },
  "language_info": {
   "codemirror_mode": {
    "name": "ipython",
    "version": 3
   },
   "file_extension": ".py",
   "mimetype": "text/x-python",
   "name": "python",
   "nbconvert_exporter": "python",
   "pygments_lexer": "ipython3",
   "version": "3.11.9"
  }
 },
 "nbformat": 4,
 "nbformat_minor": 5
}
