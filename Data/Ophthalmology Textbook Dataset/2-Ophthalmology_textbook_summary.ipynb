{
 "cells": [
  {
   "cell_type": "code",
   "execution_count": 1,
   "id": "59f2e7c6",
   "metadata": {
    "ExecuteTime": {
     "end_time": "2024-10-14T07:39:03.184022Z",
     "start_time": "2024-10-14T07:39:02.555442Z"
    }
   },
   "outputs": [],
   "source": [
    "from langchain.chat_models import ChatOpenAI\n",
    "from langchain.schema import SystemMessage, HumanMessage\n",
    "from dotenv import load_dotenv\n",
    "import pandas as pd\n",
    "import os\n",
    "\n",
    "load_dotenv()\n",
    "OPENAI_API_KEY = os.getenv(\"OPENAI_API_KEY\")"
   ]
  },
  {
   "cell_type": "code",
   "execution_count": 2,
   "id": "5b5f7cb5",
   "metadata": {
    "ExecuteTime": {
     "end_time": "2024-10-14T03:24:44.739237Z",
     "start_time": "2024-10-14T03:24:44.735887Z"
    }
   },
   "outputs": [],
   "source": [
    "llm = ChatOpenAI(model=\"gpt-4o\", temperature=0.0, openai_api_key=OPENAI_API_KEY)"
   ]
  },
  {
   "cell_type": "code",
   "execution_count": 3,
   "id": "6387ff36",
   "metadata": {},
   "outputs": [],
   "source": [
    "GPT_system_prompt = \"\"\"You are an expert ophthalmologist and medical editor. You have been given text extracted from an ophthalmology textbook. Your job is to summarize, and structure this text into a corpus format suitable for training a large language model (LLM) specialized in ophthalmology.\n",
    "When reorganizing, please remove all non-textual data, such as pictures, diagrams, etc. Also, please remove all personally identifiable information and unique document information, and reorganize in natural writing without bullet points as much as possible. Remove any references to chapter numbers, section headings, page numbers, or other structural details from the original source. Only include the core ophthalmology content itself, excluding any metadata or documentation-specific markers that do not directly contribute to the medical information. Also, all sentences should end.\"\"\""
   ]
  },
  {
   "cell_type": "code",
   "execution_count": 4,
   "id": "f303af58",
   "metadata": {
    "ExecuteTime": {
     "end_time": "2024-10-14T03:24:45.716077Z",
     "start_time": "2024-10-14T03:24:45.412884Z"
    }
   },
   "outputs": [],
   "source": [
    "def generate_prompt(ophthal_content: str):\n",
    "    return f\"given content: {ophthal_content}\\n\\ncorpus data: \"\n",
    "\n",
    "\n",
    "def generate_corpus(ophthal_content: str):\n",
    "    messages = [\n",
    "        SystemMessage(content=GPT_system_prompt),\n",
    "        HumanMessage(content=generate_prompt(ophthal_content)),\n",
    "    ]\n",
    "    response = llm(messages)\n",
    "    return response.content"
   ]
  },
  {
   "cell_type": "code",
   "execution_count": null,
   "id": "c45fb755",
   "metadata": {},
   "outputs": [],
   "source": [
    "input_dir = \"./Parsed Ophthalmology Textbook\"\n",
    "output_dir = \"./Refined Ophthalmology Textbook\"\n",
    "os.makedirs(output_dir, exist_ok=True)\n",
    "\n",
    "for filename in os.listdir(input_dir):\n",
    "    if filename.endswith(\".xlsx\"):\n",
    "        input_path = os.path.join(input_dir, filename)\n",
    "        output_path = os.path.join(\n",
    "            output_dir, filename.replace(\".xlsx\", \"_refined.xlsx\")\n",
    "        )\n",
    "\n",
    "        # 이미 처리된 경우 스킵\n",
    "        if os.path.exists(output_path):\n",
    "            print(f\"Skipping {filename} (already exists).\")\n",
    "            continue\n",
    "\n",
    "        print(f\"Processing: {filename}\")\n",
    "        df = pd.read_excel(input_path)\n",
    "\n",
    "        if \"contents\" not in df.columns:\n",
    "            print(f\"Skipping {filename} (no 'contents' column).\")\n",
    "            continue\n",
    "\n",
    "        contents = df[\"contents\"].astype(str).tolist()\n",
    "        results = []\n",
    "\n",
    "        for i, content in enumerate(contents):\n",
    "            try:\n",
    "                refined = generate_corpus(content)\n",
    "            except Exception as e:\n",
    "                print(f\"Error at index {i}: {e}\")\n",
    "                refined = \"Error\"\n",
    "            results.append(refined)\n",
    "\n",
    "        pd.DataFrame({\"answer\": results}).to_excel(output_path, index=False)\n",
    "        print(f\"Saved to {output_path}\")"
   ]
  }
 ],
 "metadata": {
  "kernelspec": {
   "display_name": "Python 3.8 (NGC 22.12 / TensorFlow 2.10.1) on Backend.AI",
   "language": "python",
   "name": "python3"
  },
  "language_info": {
   "codemirror_mode": {
    "name": "ipython",
    "version": 3
   },
   "file_extension": ".py",
   "mimetype": "text/x-python",
   "name": "python",
   "nbconvert_exporter": "python",
   "pygments_lexer": "ipython3",
   "version": "3.11.9"
  }
 },
 "nbformat": 4,
 "nbformat_minor": 5
}
