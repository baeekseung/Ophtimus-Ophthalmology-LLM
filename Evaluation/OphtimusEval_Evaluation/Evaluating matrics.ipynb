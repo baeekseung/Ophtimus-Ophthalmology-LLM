{
 "cells": [
  {
   "cell_type": "code",
   "execution_count": 1,
   "metadata": {},
   "outputs": [],
   "source": [
    "import pandas as pd\n",
    "from datasets import load_dataset\n",
    "from dotenv import load_dotenv\n",
    "import os\n",
    "\n",
    "load_dotenv()\n",
    "huggingface_token = os.getenv(\"HF_TOKEN_read\")\n",
    "\n",
    "from huggingface_hub import login\n",
    "login(token=huggingface_token)\n",
    "import openpyxl"
   ]
  },
  {
   "cell_type": "code",
   "execution_count": 2,
   "metadata": {},
   "outputs": [
    {
     "name": "stdout",
     "output_type": "stream",
     "text": [
      "DatasetDict({\n",
      "    train: Dataset({\n",
      "        features: ['question', 'option_a', 'option_b', 'option_c', 'option_d', 'option_e', 'answer', 'answer_text'],\n",
      "        num_rows: 2152\n",
      "    })\n",
      "})\n"
     ]
    }
   ],
   "source": [
    "dataset = load_dataset('BaekSeungJu/OphtimusEval-Dataset')\n",
    "print(dataset)\n",
    "# print(dataset['train'][idx]['answer'])"
   ]
  },
  {
   "cell_type": "code",
   "execution_count": null,
   "metadata": {},
   "outputs": [],
   "source": [
    "for idx in range(len(dataset['train'])):\n",
    "    print(dataset['train'][idx]['question'])\n",
    "    print(dataset['train'][idx]['option_a'])\n",
    "    print(dataset['train'][idx]['option_b'])\n",
    "    print(dataset['train'][idx]['option_c'])\n",
    "    print(dataset['train'][idx]['option_d'])\n",
    "    print(dataset['train'][idx]['option_e'])\n",
    "    print(dataset['train'][idx]['answer_text'])\n",
    "    print(\"--------------------------------\")\n"
   ]
  },
  {
   "cell_type": "code",
   "execution_count": 4,
   "metadata": {},
   "outputs": [],
   "source": [
    "def load_excel_workbook(excel_path):\n",
    "    return openpyxl.load_workbook(excel_path)\n",
    "\n",
    "def extract_answers_from_sheet(sheet, column_name='answer'):\n",
    "    answers = []\n",
    "    \n",
    "    # 첫 번째 행에서 열 이름을 찾음\n",
    "    header = next(sheet.iter_rows(min_row=1, max_row=1, values_only=True))\n",
    "    try:\n",
    "        column_index = header.index(column_name)\n",
    "    except ValueError:\n",
    "        raise ValueError(f\"'{column_name}' is not a valid column name in the sheet.\")\n",
    "    \n",
    "    for row in sheet.iter_rows(min_row=2, values_only=True):\n",
    "        answer = row[column_index]\n",
    "        if answer:\n",
    "            answers.append(answer)\n",
    "    \n",
    "    return answers\n",
    "\n",
    "def extract_answer_letter(input_string):\n",
    "    answer_prefix = \"Answer:\\n\"\n",
    "    incorrect_prefix = \"Incorrect\"\n",
    "    start_index = input_string.find(answer_prefix)\n",
    "    if start_index == -1:\n",
    "        # print(f\"Warning: '{answer_prefix}' not found in the input string. Skipping this entry.\")\n",
    "        return incorrect_prefix  # 기본값을 반환하거나 None을 반환하여 처리\n",
    "\n",
    "    start_index += len(answer_prefix)\n",
    "    start_index = next((i for i in range(start_index, len(input_string)) if input_string[i] != ' '), start_index)\n",
    "\n",
    "    return input_string[start_index] if start_index < len(input_string) else incorrect_prefix\n",
    "\n",
    "def Compare_Answers(gt_answer, model_answer):\n",
    "    if gt_answer.lower() == model_answer.lower():\n",
    "        return True\n",
    "    else:\n",
    "        return False"
   ]
  },
  {
   "cell_type": "code",
   "execution_count": 5,
   "metadata": {},
   "outputs": [],
   "source": [
    "exel_list = [\"OphtimusEval_Ophtimus-1B-Instruct-v1-1epoch.xlsx\", \n",
    "             \"OphtimusEval_Ophtimus-1B-Instruct-v1-2epoch.xlsx\", \n",
    "             \"OphtimusEval_Ophtimus-1B-Instruct-v1-3epoch.xlsx\", \n",
    "             \"OphtimusEval_Ophtimus-1B-Instruct-v1-4epoch.xlsx\", \n",
    "             \"OphtimusEval_Ophtimus-1B-Instruct-v1-5epoch.xlsx\",\n",
    "\n",
    "             \"OphtimusEval_Ophtimus-3B-Instruct-v1-1epoch.xlsx\",\n",
    "             \"OphtimusEval_Ophtimus-3B-Instruct-v1-2epoch.xlsx\",\n",
    "             \"OphtimusEval_Ophtimus-3B-Instruct-v1-3epoch.xlsx\",\n",
    "             \"OphtimusEval_Ophtimus-3B-Instruct-v1-4epoch.xlsx\",\n",
    "             \"OphtimusEval_Ophtimus-3B-Instruct-v1-5epoch.xlsx\",\n",
    "\n",
    "             \"OphtimusEval_Ophtimus-8B-Instruct-v1-1epoch.xlsx\",\n",
    "             \"OphtimusEval_Ophtimus-8B-Instruct-v1-2epoch.xlsx\",\n",
    "             \"OphtimusEval_Ophtimus-8B-Instruct-v1-3epoch.xlsx\",\n",
    "             \"OphtimusEval_Ophtimus-8B-Instruct-v1-4epoch.xlsx\",\n",
    "             \"OphtimusEval_Ophtimus-8B-Instruct-v1-5epoch.xlsx\",\n",
    "             ]"
   ]
  },
  {
   "cell_type": "code",
   "execution_count": null,
   "metadata": {},
   "outputs": [],
   "source": [
    "for exel in exel_list:\n",
    "    correct_count = 0\n",
    "    incorrect_count = 0\n",
    "    incorrect_indices = []  # incorrect 인덱스를 저장할 리스트\n",
    "    workbook = load_excel_workbook(f'./Dataset/{exel}')\n",
    "    sheet = workbook['Sheet1']\n",
    "    answers = extract_answers_from_sheet(sheet, column_name='answer')\n",
    "    for idx in range(len(dataset['train'])):\n",
    "        gt_answer = dataset['train'][idx]['answer']\n",
    "        model_answer = extract_answer_letter(answers[idx])\n",
    "        if Compare_Answers(gt_answer, model_answer):\n",
    "            correct_count += 1\n",
    "        else:\n",
    "            incorrect_count += 1\n",
    "            # incorrect_indices.append(idx+1)\n",
    "            print(f\"Incorrect Index: {idx+1}\")\n",
    "            print(f\"GT Answer: {gt_answer}, Model Answer: {model_answer}\")  # incorrect 인덱스를 리스트에 추가\n",
    "    total_count = correct_count + incorrect_count\n",
    "    accuracy = (correct_count / total_count) * 100 if total_count > 0 else 0\n",
    "    print(exel[:-5])\n",
    "    print(f\"Correct: {correct_count}, Incorrect: {incorrect_count}, Accuracy: {accuracy:.2f}%\")\n",
    "    # print(f\"Incorrect Indices: {incorrect_indices}\")  # incorrect 인덱스 출력\n",
    "    print(\"--------------------------------\")"
   ]
  }
 ],
 "metadata": {
  "kernelspec": {
   "display_name": "langchain-kr-dQACUWyE-py3.11",
   "language": "python",
   "name": "python3"
  },
  "language_info": {
   "codemirror_mode": {
    "name": "ipython",
    "version": 3
   },
   "file_extension": ".py",
   "mimetype": "text/x-python",
   "name": "python",
   "nbconvert_exporter": "python",
   "pygments_lexer": "ipython3",
   "version": "3.11.9"
  }
 },
 "nbformat": 4,
 "nbformat_minor": 2
}
